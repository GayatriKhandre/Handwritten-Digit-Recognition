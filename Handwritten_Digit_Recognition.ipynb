{
  "nbformat": 4,
  "nbformat_minor": 0,
  "metadata": {
    "colab": {
      "provenance": [],
      "include_colab_link": true
    },
    "kernelspec": {
      "name": "python3",
      "display_name": "Python 3"
    },
    "language_info": {
      "name": "python"
    }
  },
  "cells": [
    {
      "cell_type": "markdown",
      "metadata": {
        "id": "view-in-github",
        "colab_type": "text"
      },
      "source": [
        "<a href=\"https://colab.research.google.com/github/GayatriKhandre/Machine-Learning/blob/main/Handwritten_Digit_Recognition.ipynb\" target=\"_parent\"><img src=\"https://colab.research.google.com/assets/colab-badge.svg\" alt=\"Open In Colab\"/></a>"
      ]
    },
    {
      "cell_type": "markdown",
      "source": [
        "# Handwritten Digit Recognition using MNIST Dataset\n",
        "*(Made by Gayatri Pradeep Khandre)*\n"
      ],
      "metadata": {
        "id": "PZtVJte4fKCg"
      }
    },
    {
      "cell_type": "markdown",
      "source": [
        "1. Import Required Libraries\n"
      ],
      "metadata": {
        "id": "-3pgH_IPVwAx"
      }
    },
    {
      "cell_type": "code",
      "source": [
        "from sklearn.datasets import fetch_openml\n",
        "import matplotlib\n",
        "import matplotlib.pyplot as plt\n",
        "import numpy as np\n",
        "from sklearn.linear_model import LogisticRegression\n",
        "from sklearn.model_selection import cross_val_score"
      ],
      "metadata": {
        "id": "A1mopHH0EdzR"
      },
      "execution_count": 1,
      "outputs": []
    },
    {
      "cell_type": "markdown",
      "source": [
        "2. Fetch MNIST Dataset"
      ],
      "metadata": {
        "id": "EOCoVwo9V9wp"
      }
    },
    {
      "cell_type": "code",
      "source": [
        "mnist = fetch_openml('mnist_784')\n",
        "x, y = mnist['data'], mnist['target']"
      ],
      "metadata": {
        "id": "oHWOcSrCEzYS"
      },
      "execution_count": 2,
      "outputs": []
    },
    {
      "cell_type": "markdown",
      "source": [
        "\n",
        "3. Visualize a Sample Image\n"
      ],
      "metadata": {
        "id": "TNn15TtzWF4H"
      }
    },
    {
      "cell_type": "code",
      "source": [
        "some_digit = x.to_numpy()[36000]\n",
        "some_digit_image = some_digit.reshape(28, 28)\n",
        "\n",
        "plt.imshow(some_digit_image, cmap=matplotlib.cm.binary,interpolation='nearest')\n",
        "plt.axis(\"off\")\n",
        "plt.show()\n"
      ],
      "metadata": {
        "colab": {
          "base_uri": "https://localhost:8080/",
          "height": 406
        },
        "id": "Xs2HoivH4443",
        "outputId": "ed165b37-b5d8-4ae4-fc36-7ad69d568e85"
      },
      "execution_count": 3,
      "outputs": [
        {
          "output_type": "display_data",
          "data": {
            "text/plain": [
              "<Figure size 640x480 with 1 Axes>"
            ],
            "image/png": "[encoded data removed]"
          },
          "metadata": {}
        }
      ]
    },
    {
      "cell_type": "code",
      "source": [
        "y[36000]"
      ],
      "metadata": {
        "colab": {
          "base_uri": "https://localhost:8080/",
          "height": 36
        },
        "id": "af93_2iE7kZo",
        "outputId": "5164979f-9cf2-4150-db6c-7aea2244572d"
      },
      "execution_count": 4,
      "outputs": [
        {
          "output_type": "execute_result",
          "data": {
            "text/plain": [
              "'9'"
            ],
            "application/vnd.google.colaboratory.intrinsic+json": {
              "type": "string"
            }
          },
          "metadata": {},
          "execution_count": 4
        }
      ]
    },
    {
      "cell_type": "markdown",
      "source": [
        "4. Prepare Training & Testing Data"
      ],
      "metadata": {
        "id": "xT9dTn6zWOxQ"
      }
    },
    {
      "cell_type": "code",
      "source": [
        "x_train , x_test = x[:60000] ,x[60000:]\n",
        "y_train , y_test = y[:60000] , y[60000:]"
      ],
      "metadata": {
        "id": "JEAKuEHn8M1I"
      },
      "execution_count": 5,
      "outputs": []
    },
    {
      "cell_type": "code",
      "source": [
        "import numpy as np\n",
        "shuffle_index = np.random.permutation(60000)\n",
        "\n",
        "x_train = x_train.iloc[shuffle_index]\n",
        "y_train = y_train.iloc[shuffle_index]"
      ],
      "metadata": {
        "id": "7w6HC6k98yA_"
      },
      "execution_count": 6,
      "outputs": []
    },
    {
      "cell_type": "markdown",
      "source": [
        "5. Convert Labels for Binary Classification (Detecting '2')"
      ],
      "metadata": {
        "id": "ZD8CLm_LWd7i"
      }
    },
    {
      "cell_type": "code",
      "source": [
        "y_train = y_train.astype(np.int8)\n",
        "y_test = y_test.astype(np.int8)\n",
        "y_train_2 = (y_train ==2)\n",
        "y_test_2 = (y_test == 2)"
      ],
      "metadata": {
        "id": "YpnBgtfw-d23"
      },
      "execution_count": 7,
      "outputs": []
    },
    {
      "cell_type": "markdown",
      "source": [
        "6. Train the Logistic Regression Model"
      ],
      "metadata": {
        "id": "Dr0WMxsSWwo4"
      }
    },
    {
      "cell_type": "code",
      "source": [
        "from sklearn.linear_model import LogisticRegression\n",
        "\n",
        "\n",
        "clf = LogisticRegression(tol=0.1)\n",
        "clf.fit(x_train, y_train_2)\n",
        "y_pred = clf.predict(x_test)\n"
      ],
      "metadata": {
        "id": "wfyklwNp_Jrg",
        "collapsed": true
      },
      "execution_count": 20,
      "outputs": []
    },
    {
      "cell_type": "markdown",
      "source": [
        "7. Cross-Validation for Model Evaluation"
      ],
      "metadata": {
        "id": "8aoPvWekXkX3"
      }
    },
    {
      "cell_type": "code",
      "source": [
        "from sklearn.model_selection import cross_val_score\n",
        "accuracy = cross_val_score(clf, x_train, y_train_2, cv=3, scoring=\"accuracy\")\n",
        "print(accuracy.mean())"
      ],
      "metadata": {
        "id": "HkHx6Z_yHc0q",
        "colab": {
          "base_uri": "https://localhost:8080/"
        },
        "outputId": "8d62b1fd-13c1-44ca-967c-54c0233a3133"
      },
      "execution_count": 21,
      "outputs": [
        {
          "output_type": "stream",
          "name": "stdout",
          "text": [
            "0.979\n"
          ]
        }
      ]
    }
  ]
}