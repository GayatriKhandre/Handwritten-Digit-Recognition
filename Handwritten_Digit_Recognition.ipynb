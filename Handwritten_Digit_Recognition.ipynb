{
  "nbformat": 4,
  "nbformat_minor": 0,
  "metadata": {
    "colab": {
      "provenance": [],
      "include_colab_link": true
    },
    "kernelspec": {
      "name": "python3",
      "display_name": "Python 3"
    },
    "language_info": {
      "name": "python"
    }
  },
  "cells": [
    {
      "cell_type": "markdown",
      "metadata": {
        "id": "view-in-github",
        "colab_type": "text"
      },
      "source": [
        "<a href=\"https://colab.research.google.com/github/GayatriKhandre/Machine-Learning/blob/main/Handwritten_Digit_Recognition.ipynb\" target=\"_parent\"><img src=\"https://colab.research.google.com/assets/colab-badge.svg\" alt=\"Open In Colab\"/></a>"
      ]
    },
    {
      "cell_type": "code",
      "source": [
        "\n",
        "from sklearn.datasets import fetch_openml\n",
        "import matplotlib\n",
        "import matplotlib.pyplot as plt\n",
        "import numpy as np\n",
        "from sklearn.linear_model import LogisticRegression\n",
        "from sklearn.model_selection import cross_val_score\n",
        "\n",
        "mnist = fetch_openml('mnist_784')"
      ],
      "metadata": {
        "id": "A1mopHH0EdzR"
      },
      "execution_count": null,
      "outputs": []
    },
    {
      "cell_type": "code",
      "source": [
        "mnist"
      ],
      "metadata": {
        "id": "oHWOcSrCEzYS"
      },
      "execution_count": null,
      "outputs": []
    },
    {
      "cell_type": "code",
      "source": [
        "\n",
        "x, y = mnist['data'], mnist['target']\n",
        "\n",
        "some_digit = x.to_numpy()[36000]\n",
        "some_digit_image = some_digit.reshape(28, 28)\n",
        "\n",
        "plt.imshow(some_digit_image, cmap=matplotlib.cm.binary,\n",
        "           interpolation='nearest')\n",
        "plt.axis(\"off\")\n",
        "plt.show()\n"
      ],
      "metadata": {
        "colab": {
          "base_uri": "https://localhost:8080/",
          "height": 406
        },
        "id": "Xs2HoivH4443",
        "outputId": "6d5f7844-c203-4600-abda-7003429df089"
      },
      "execution_count": 5,
      "outputs": [
        {
          "output_type": "display_data",
          "data": {
            "text/plain": [
              "<Figure size 640x480 with 1 Axes>"
            ],
            "image/png": "[encoded data removed]"
          },
          "metadata": {}
        }
      ]
    },
    {
      "cell_type": "code",
      "source": [
        "y[36000]"
      ],
      "metadata": {
        "colab": {
          "base_uri": "https://localhost:8080/",
          "height": 36
        },
        "id": "af93_2iE7kZo",
        "outputId": "832ce4f4-73d6-48a3-b33c-053b203c7359"
      },
      "execution_count": 6,
      "outputs": [
        {
          "output_type": "execute_result",
          "data": {
            "text/plain": [
              "'9'"
            ],
            "application/vnd.google.colaboratory.intrinsic+json": {
              "type": "string"
            }
          },
          "metadata": {},
          "execution_count": 6
        }
      ]
    },
    {
      "cell_type": "code",
      "source": [
        "x_train , x_test = x[:60000] ,x[60000:]"
      ],
      "metadata": {
        "id": "JEAKuEHn8M1I"
      },
      "execution_count": 7,
      "outputs": []
    },
    {
      "cell_type": "code",
      "source": [
        "y_train , y_test = y[:60000] , y[60000:]"
      ],
      "metadata": {
        "id": "PlyOAoQc8nFn"
      },
      "execution_count": 8,
      "outputs": []
    },
    {
      "cell_type": "code",
      "source": [
        "import numpy as np\n",
        "\n",
        "shuffle_index = np.random.permutation(60000)\n",
        "\n",
        "x_train = x_train.iloc[shuffle_index]\n",
        "y_train = y_train.iloc[shuffle_index]"
      ],
      "metadata": {
        "id": "7w6HC6k98yA_"
      },
      "execution_count": 9,
      "outputs": []
    },
    {
      "cell_type": "code",
      "source": [
        "y_train = y_train.astype(np.int8)\n",
        "y_test = y_test.astype(np.int8)\n",
        "y_train_2 = (y_train ==2)\n",
        "y_test_2 = (y_test == 2)"
      ],
      "metadata": {
        "id": "YpnBgtfw-d23"
      },
      "execution_count": 10,
      "outputs": []
    },
    {
      "cell_type": "code",
      "source": [
        "y_train_2"
      ],
      "metadata": {
        "id": "6csosUMT-uBg"
      },
      "execution_count": null,
      "outputs": []
    },
    {
      "cell_type": "code",
      "source": [
        "y_test_2"
      ],
      "metadata": {
        "id": "HvWMFWxG-2T_"
      },
      "execution_count": null,
      "outputs": []
    },
    {
      "cell_type": "code",
      "source": [
        "from sklearn.linear_model import LogisticRegression"
      ],
      "metadata": {
        "id": "wfyklwNp_Jrg"
      },
      "execution_count": 13,
      "outputs": []
    },
    {
      "cell_type": "code",
      "source": [
        "clf = LogisticRegression(tol=0.1)"
      ],
      "metadata": {
        "id": "B60c5lA0_9eo"
      },
      "execution_count": 14,
      "outputs": []
    },
    {
      "cell_type": "code",
      "source": [
        "clf.fit(x_train,y_train_2)"
      ],
      "metadata": {
        "id": "bLmEqimUB5NA"
      },
      "execution_count": null,
      "outputs": []
    },
    {
      "cell_type": "code",
      "source": [
        "LogisticRegression(C =  1.0 , class_weight= None, dual=False, fit_intercept = True, intercept_scaling = 1 , l1_ratio = None , max_iter = 100,multi_class='warn',n_jobs = None , penalty = '12',random_state = None , solver = 'warn',tol = 0.1,verbose = 0,warm_start=False )"
      ],
      "metadata": {
        "id": "lGUP2onTGHJ4"
      },
      "execution_count": null,
      "outputs": []
    },
    {
      "cell_type": "code",
      "source": [
        "from sklearn.model_selection import cross_val_score\n",
        "a = cross_val_score(clf, x_train,y_train_2, cv =3, scoring =\"accuracy\")"
      ],
      "metadata": {
        "id": "HkHx6Z_yHc0q"
      },
      "execution_count": null,
      "outputs": []
    },
    {
      "cell_type": "code",
      "source": [
        "a.mean()"
      ],
      "metadata": {
        "colab": {
          "base_uri": "https://localhost:8080/",
          "height": 0
        },
        "id": "LQxQUmK6IO5a",
        "outputId": "6859e01c-3a8e-48d6-8882-8db93e92bd8e"
      },
      "execution_count": 18,
      "outputs": [
        {
          "output_type": "execute_result",
          "data": {
            "text/plain": [
              "0.9777999999999999"
            ]
          },
          "metadata": {},
          "execution_count": 18
        }
      ]
    }
  ]
}